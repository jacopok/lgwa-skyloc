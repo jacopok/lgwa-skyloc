{
 "cells": [
  {
   "cell_type": "code",
   "execution_count": 4,
   "metadata": {},
   "outputs": [],
   "source": [
    "from ipywidgets import interact\n",
    "from lgwa_skyloc.psds_against_bns_signal import plot_snr\n",
    "import warnings\n",
    "import numpy as np\n"
   ]
  },
  {
   "cell_type": "code",
   "execution_count": 5,
   "metadata": {},
   "outputs": [],
   "source": [
    "default_parameters = {\n",
    "    'phase': 0.,\n",
    "    'geocent_time': 1577491218., # 1st of January 2030\n",
    "    'redshift': .01,\n",
    "    'luminosity_distance': 40,\n",
    "    'theta_jn': 1.,\n",
    "    'mass_1': 1.4,\n",
    "    'mass_2': 1.4,\n",
    "    'ra': 0.,\n",
    "    'dec': 0.,\n",
    "    'psi': 0.,\n",
    "    'lambda_1': 500., \n",
    "    'lambda_2': 500., \n",
    "    'a_1': 0., \n",
    "    'a_2': 0., \n",
    "}\n",
    "\n",
    "def plotting_func(\n",
    "    theta_jn: float, \n",
    "    ra: float, \n",
    "    dec: float, \n",
    "    distance: float, \n",
    "    time_shift_hr: float,\n",
    "    time_shift_day: float,\n",
    "    time_shift_month: float,\n",
    "    ):\n",
    "    parameters = default_parameters.copy()\n",
    "    parameters['theta_jn'] = theta_jn\n",
    "    parameters['ra'] = ra\n",
    "    parameters['dec'] = dec\n",
    "    parameters['luminosity_distance'] = distance\n",
    "    parameters['geocent_time'] += time_shift_hr * 3600\n",
    "    parameters['geocent_time'] += time_shift_day * 3600 * 24\n",
    "    parameters['geocent_time'] += time_shift_month * 3600 * 24 * 27\n",
    "    \n",
    "    plot_snr(parameters)"
   ]
  },
  {
   "cell_type": "code",
   "execution_count": 6,
   "metadata": {},
   "outputs": [
    {
     "data": {
      "application/vnd.jupyter.widget-view+json": {
       "model_id": "79bd4bbaf243434db39e02c5a66eff42",
       "version_major": 2,
       "version_minor": 0
      },
      "text/plain": [
       "interactive(children=(FloatSlider(value=0.7539822368615504, description='theta_jn', max=1.5707963267948966, st…"
      ]
     },
     "metadata": {},
     "output_type": "display_data"
    },
    {
     "data": {
      "text/plain": [
       "<function __main__.plotting_func(theta_jn: float, ra: float, dec: float, distance: float, time_shift_hr: float, time_shift_day: float, time_shift_month: float)>"
      ]
     },
     "execution_count": 6,
     "metadata": {},
     "output_type": "execute_result"
    }
   ],
   "source": [
    "warnings.filterwarnings(\"ignore\", category=UserWarning)\n",
    "interact(\n",
    "    plotting_func, \n",
    "    theta_jn=(0., np.pi/2, np.pi/100),\n",
    "    ra=(0., np.pi*2, np.pi/20),\n",
    "    dec=(0., np.pi, np.pi/20),\n",
    "    distance=(10, 100),\n",
    "    time_shift_hr=(0, 24, 1),\n",
    "    time_shift_day=(0, 27, 1),\n",
    "    time_shift_month=(0, 12, 1),\n",
    ")\n"
   ]
  },
  {
   "cell_type": "code",
   "execution_count": null,
   "metadata": {},
   "outputs": [],
   "source": []
  },
  {
   "cell_type": "code",
   "execution_count": null,
   "metadata": {},
   "outputs": [],
   "source": []
  }
 ],
 "metadata": {
  "kernelspec": {
   "display_name": "LGWA-skyloc",
   "language": "python",
   "name": "lgwa-skyloc"
  },
  "language_info": {
   "codemirror_mode": {
    "name": "ipython",
    "version": 3
   },
   "file_extension": ".py",
   "mimetype": "text/x-python",
   "name": "python",
   "nbconvert_exporter": "python",
   "pygments_lexer": "ipython3",
   "version": "3.9.11"
  },
  "orig_nbformat": 4,
  "vscode": {
   "interpreter": {
    "hash": "3e65a72d8f78e0a7adcac848e562d778cdd73c5b727105af2b4530959564e2f0"
   }
  }
 },
 "nbformat": 4,
 "nbformat_minor": 2
}
